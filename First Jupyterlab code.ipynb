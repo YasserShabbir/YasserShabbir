{
 "cells": [
  {
   "cell_type": "markdown",
   "id": "93963667",
   "metadata": {},
   "source": [
    "# Data science tools and ecosystem"
   ]
  },
  {
   "cell_type": "markdown",
   "id": "055069c0",
   "metadata": {},
   "source": [
    "In this notebook, Datascience tools and ecosystem are summarised."
   ]
  },
  {
   "cell_type": "markdown",
   "id": "343c190c",
   "metadata": {},
   "source": [
    "List of data science languages is as appended below:\n",
    "- Python\n",
    "- R\n",
    "- SQL"
   ]
  },
  {
   "cell_type": "markdown",
   "id": "93985b9c",
   "metadata": {},
   "source": [
    "List of data science libraries is as appended below:\n",
    "- Pandas\n",
    "- NumPy\n",
    "- Matplotlib\n"
   ]
  },
  {
   "cell_type": "markdown",
   "id": "d222b6d9",
   "metadata": {},
   "source": [
    "Table of Data Science tools:\n",
    "\n",
    "| Tool       | Description       |\n",
    "|------------|-------------------|\n",
    "| Tableau    | Data visualization |\n",
    "| TensorFlow | Machine learning  |\n",
    "| Spark      | Big data          |\n"
   ]
  },
  {
   "cell_type": "markdown",
   "id": "5231df1b",
   "metadata": {},
   "source": [
    "### Here are some arithmetic expressions:"
   ]
  },
  {
   "cell_type": "code",
   "execution_count": 7,
   "id": "97eeb3d6",
   "metadata": {},
   "outputs": [
    {
     "data": {
      "text/plain": [
       "17"
      ]
     },
     "execution_count": 7,
     "metadata": {},
     "output_type": "execute_result"
    }
   ],
   "source": [
    "# This is a common arthimetic example to multiply and add integers\n",
    "(3*4)+5"
   ]
  },
  {
   "cell_type": "code",
   "execution_count": 6,
   "id": "a2d9e282",
   "metadata": {},
   "outputs": [
    {
     "data": {
      "text/plain": [
       "3.3333333333333335"
      ]
     },
     "execution_count": 6,
     "metadata": {},
     "output_type": "execute_result"
    }
   ],
   "source": [
    "minutes = 200\n",
    "hours = minutes / 60\n",
    "hours"
   ]
  },
  {
   "cell_type": "markdown",
   "id": "517ca630",
   "metadata": {},
   "source": [
    "__OBJECTIVE__\n",
    "* List of poppular langauges for datascience\n",
    "* List of popular libraries for datascience\n",
    "* Table of Datascience tools\n",
    "* How to provide comments in a cell"
   ]
  },
  {
   "cell_type": "markdown",
   "id": "c7ef620f",
   "metadata": {},
   "source": [
    "## Author\n",
    "Yasser Shabbir"
   ]
  },
  {
   "cell_type": "code",
   "execution_count": null,
   "id": "259d9dc8",
   "metadata": {},
   "outputs": [],
   "source": []
  }
 ],
 "metadata": {
  "kernelspec": {
   "display_name": "Python 3 (ipykernel)",
   "language": "python",
   "name": "python3"
  },
  "language_info": {
   "codemirror_mode": {
    "name": "ipython",
    "version": 3
   },
   "file_extension": ".py",
   "mimetype": "text/x-python",
   "name": "python",
   "nbconvert_exporter": "python",
   "pygments_lexer": "ipython3",
   "version": "3.9.13"
  }
 },
 "nbformat": 4,
 "nbformat_minor": 5
}
